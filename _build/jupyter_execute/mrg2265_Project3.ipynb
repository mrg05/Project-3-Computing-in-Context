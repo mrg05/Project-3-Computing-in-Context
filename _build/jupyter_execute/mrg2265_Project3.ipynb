{
 "cells": [
  {
   "cell_type": "markdown",
   "id": "7fde30e0-ad46-4cff-9d2e-d3b60f8bbc9f",
   "metadata": {},
   "source": [
    "#Project 3: Data Visualisation "
   ]
  },
  {
   "cell_type": "code",
   "execution_count": null,
   "id": "39e0743c-a4f2-41b5-a2f1-d143f2e42704",
   "metadata": {},
   "outputs": [],
   "source": []
  }
 ],
 "metadata": {
  "kernelspec": {
   "display_name": "Python 3 (ipykernel)",
   "language": "python",
   "name": "python3"
  },
  "language_info": {
   "codemirror_mode": {
    "name": "ipython",
    "version": 3
   },
   "file_extension": ".py",
   "mimetype": "text/x-python",
   "name": "python",
   "nbconvert_exporter": "python",
   "pygments_lexer": "ipython3",
   "version": "3.12.4"
  }
 },
 "nbformat": 4,
 "nbformat_minor": 5
}