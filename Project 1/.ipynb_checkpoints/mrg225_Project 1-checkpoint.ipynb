{
 "cells": [
  {
   "cell_type": "markdown",
   "id": "77401e1f-38a8-4015-88f9-fbf012376733",
   "metadata": {},
   "source": [
    "# Project 1: Data Visualisation \n",
    "\n",
    "#Reference: Used ChatGPT to help reword & refine the markdowns and debug calculation of the mean, median, mode using standard python"
   ]
  },
  {
   "cell_type": "markdown",
   "id": "bd34023a-c5d0-4ebb-867e-eea535006e9d",
   "metadata": {},
   "source": [
    "#Step 1: Select data set from Kaagle\n",
    "#Step 2: Upload the dataset into a directory to inspect the data and understand its structure\n",
    "\n",
    "Selected dataset: Students Performance | Clean Dataset"
   ]
  },
  {
   "cell_type": "code",
   "execution_count": 3,
   "id": "f2d1f457-cca3-4708-9b19-5d5b6d99a5ab",
   "metadata": {},
   "outputs": [],
   "source": [
    "import plotly.io as pio\n",
    "pio.renderers.default = \"vscode+jupyterlab+notebook_connected\""
   ]
  },
  {
   "cell_type": "code",
   "execution_count": 4,
   "id": "ae20872c-319a-4890-8297-c5fcbe956ffc",
   "metadata": {},
   "outputs": [
    {
     "data": {
      "text/html": [
       "<div>\n",
       "<style scoped>\n",
       "    .dataframe tbody tr th:only-of-type {\n",
       "        vertical-align: middle;\n",
       "    }\n",
       "\n",
       "    .dataframe tbody tr th {\n",
       "        vertical-align: top;\n",
       "    }\n",
       "\n",
       "    .dataframe thead th {\n",
       "        text-align: right;\n",
       "    }\n",
       "</style>\n",
       "<table border=\"1\" class=\"dataframe\">\n",
       "  <thead>\n",
       "    <tr style=\"text-align: right;\">\n",
       "      <th></th>\n",
       "      <th>Hours_Studied</th>\n",
       "      <th>Attendance</th>\n",
       "      <th>Parental_Involvement</th>\n",
       "      <th>Access_to_Resources</th>\n",
       "      <th>Extracurricular_Activities</th>\n",
       "      <th>Sleep_Hours</th>\n",
       "      <th>Previous_Scores</th>\n",
       "      <th>Motivation_Level</th>\n",
       "      <th>Internet_Access</th>\n",
       "      <th>Tutoring_Sessions</th>\n",
       "      <th>Family_Income</th>\n",
       "      <th>Teacher_Quality</th>\n",
       "      <th>School_Type</th>\n",
       "      <th>Peer_Influence</th>\n",
       "      <th>Physical_Activity</th>\n",
       "      <th>Learning_Disabilities</th>\n",
       "      <th>Parental_Education_Level</th>\n",
       "      <th>Distance_from_Home</th>\n",
       "      <th>Gender</th>\n",
       "      <th>Exam_Score</th>\n",
       "    </tr>\n",
       "  </thead>\n",
       "  <tbody>\n",
       "    <tr>\n",
       "      <th>0</th>\n",
       "      <td>23</td>\n",
       "      <td>84</td>\n",
       "      <td>Low</td>\n",
       "      <td>High</td>\n",
       "      <td>No</td>\n",
       "      <td>7</td>\n",
       "      <td>73</td>\n",
       "      <td>Low</td>\n",
       "      <td>Yes</td>\n",
       "      <td>0</td>\n",
       "      <td>Low</td>\n",
       "      <td>Medium</td>\n",
       "      <td>Public</td>\n",
       "      <td>Positive</td>\n",
       "      <td>3</td>\n",
       "      <td>No</td>\n",
       "      <td>High School</td>\n",
       "      <td>Near</td>\n",
       "      <td>Male</td>\n",
       "      <td>67</td>\n",
       "    </tr>\n",
       "    <tr>\n",
       "      <th>1</th>\n",
       "      <td>19</td>\n",
       "      <td>64</td>\n",
       "      <td>Low</td>\n",
       "      <td>Medium</td>\n",
       "      <td>No</td>\n",
       "      <td>8</td>\n",
       "      <td>59</td>\n",
       "      <td>Low</td>\n",
       "      <td>Yes</td>\n",
       "      <td>2</td>\n",
       "      <td>Medium</td>\n",
       "      <td>Medium</td>\n",
       "      <td>Public</td>\n",
       "      <td>Negative</td>\n",
       "      <td>4</td>\n",
       "      <td>No</td>\n",
       "      <td>College</td>\n",
       "      <td>Moderate</td>\n",
       "      <td>Female</td>\n",
       "      <td>61</td>\n",
       "    </tr>\n",
       "    <tr>\n",
       "      <th>2</th>\n",
       "      <td>24</td>\n",
       "      <td>98</td>\n",
       "      <td>Medium</td>\n",
       "      <td>Medium</td>\n",
       "      <td>Yes</td>\n",
       "      <td>7</td>\n",
       "      <td>91</td>\n",
       "      <td>Medium</td>\n",
       "      <td>Yes</td>\n",
       "      <td>2</td>\n",
       "      <td>Medium</td>\n",
       "      <td>Medium</td>\n",
       "      <td>Public</td>\n",
       "      <td>Neutral</td>\n",
       "      <td>4</td>\n",
       "      <td>No</td>\n",
       "      <td>Postgraduate</td>\n",
       "      <td>Near</td>\n",
       "      <td>Male</td>\n",
       "      <td>74</td>\n",
       "    </tr>\n",
       "    <tr>\n",
       "      <th>3</th>\n",
       "      <td>29</td>\n",
       "      <td>89</td>\n",
       "      <td>Low</td>\n",
       "      <td>Medium</td>\n",
       "      <td>Yes</td>\n",
       "      <td>8</td>\n",
       "      <td>98</td>\n",
       "      <td>Medium</td>\n",
       "      <td>Yes</td>\n",
       "      <td>1</td>\n",
       "      <td>Medium</td>\n",
       "      <td>Medium</td>\n",
       "      <td>Public</td>\n",
       "      <td>Negative</td>\n",
       "      <td>4</td>\n",
       "      <td>No</td>\n",
       "      <td>High School</td>\n",
       "      <td>Moderate</td>\n",
       "      <td>Male</td>\n",
       "      <td>71</td>\n",
       "    </tr>\n",
       "    <tr>\n",
       "      <th>4</th>\n",
       "      <td>19</td>\n",
       "      <td>92</td>\n",
       "      <td>Medium</td>\n",
       "      <td>Medium</td>\n",
       "      <td>Yes</td>\n",
       "      <td>6</td>\n",
       "      <td>65</td>\n",
       "      <td>Medium</td>\n",
       "      <td>Yes</td>\n",
       "      <td>3</td>\n",
       "      <td>Medium</td>\n",
       "      <td>High</td>\n",
       "      <td>Public</td>\n",
       "      <td>Neutral</td>\n",
       "      <td>4</td>\n",
       "      <td>No</td>\n",
       "      <td>College</td>\n",
       "      <td>Near</td>\n",
       "      <td>Female</td>\n",
       "      <td>70</td>\n",
       "    </tr>\n",
       "  </tbody>\n",
       "</table>\n",
       "</div>"
      ],
      "text/plain": [
       "   Hours_Studied  Attendance Parental_Involvement Access_to_Resources  \\\n",
       "0             23          84                  Low                High   \n",
       "1             19          64                  Low              Medium   \n",
       "2             24          98               Medium              Medium   \n",
       "3             29          89                  Low              Medium   \n",
       "4             19          92               Medium              Medium   \n",
       "\n",
       "  Extracurricular_Activities  Sleep_Hours  Previous_Scores Motivation_Level  \\\n",
       "0                         No            7               73              Low   \n",
       "1                         No            8               59              Low   \n",
       "2                        Yes            7               91           Medium   \n",
       "3                        Yes            8               98           Medium   \n",
       "4                        Yes            6               65           Medium   \n",
       "\n",
       "  Internet_Access  Tutoring_Sessions Family_Income Teacher_Quality  \\\n",
       "0             Yes                  0           Low          Medium   \n",
       "1             Yes                  2        Medium          Medium   \n",
       "2             Yes                  2        Medium          Medium   \n",
       "3             Yes                  1        Medium          Medium   \n",
       "4             Yes                  3        Medium            High   \n",
       "\n",
       "  School_Type Peer_Influence  Physical_Activity Learning_Disabilities  \\\n",
       "0      Public       Positive                  3                    No   \n",
       "1      Public       Negative                  4                    No   \n",
       "2      Public        Neutral                  4                    No   \n",
       "3      Public       Negative                  4                    No   \n",
       "4      Public        Neutral                  4                    No   \n",
       "\n",
       "  Parental_Education_Level Distance_from_Home  Gender  Exam_Score  \n",
       "0              High School               Near    Male          67  \n",
       "1                  College           Moderate  Female          61  \n",
       "2             Postgraduate               Near    Male          74  \n",
       "3              High School           Moderate    Male          71  \n",
       "4                  College               Near  Female          70  "
      ]
     },
     "execution_count": 4,
     "metadata": {},
     "output_type": "execute_result"
    }
   ],
   "source": [
    "import pandas as pd\n",
    "\n",
    "data = pd.read_csv(\"StudentPerformanceFactors 2.csv\")\n",
    "data.head()"
   ]
  },
  {
   "cell_type": "markdown",
   "id": "7a09d76a-c000-449b-82d9-ee7e1f6efada",
   "metadata": {},
   "source": [
    "#Step 3: Select a Numeric Column\n",
    "After examining the dataset, the column math_score is selected for analysis. This column will be used to compute the mean, median, and mode, providing insights into the central tendency of student scores"
   ]
  },
  {
   "cell_type": "markdown",
   "id": "65956948-04ce-42b3-b565-51a63614a9d3",
   "metadata": {},
   "source": [
    "#Step 4: Calculating Mean, Median, and Mode using pandas"
   ]
  },
  {
   "cell_type": "code",
   "execution_count": 7,
   "id": "1fdb5147-feb8-4ac1-8ffb-558da1c1a033",
   "metadata": {},
   "outputs": [
    {
     "name": "stdout",
     "output_type": "stream",
     "text": [
      "Mean (Pandas): 7.029060087785682\n",
      "Median (Pandas): 7.0\n",
      "Mode (Pandas): 7\n"
     ]
    }
   ],
   "source": [
    "mean_pandas = data['Sleep_Hours'].mean()\n",
    "median_pandas = data['Sleep_Hours'].median()\n",
    "mode_pandas = data['Sleep_Hours'].mode()[0]\n",
    "\n",
    "print(\"Mean (Pandas):\", mean_pandas)\n",
    "print(\"Median (Pandas):\", median_pandas)\n",
    "print(\"Mode (Pandas):\", mode_pandas)"
   ]
  },
  {
   "cell_type": "markdown",
   "id": "67554927-aa36-4eee-970a-bc873ecc376c",
   "metadata": {},
   "source": [
    "#Step 5: Calculating Mean, Median, and Mode with Standard Python\n",
    "Also, round up the 3 values upto 2 decimal points\n",
    "\n",
    "#Definitions of these terms:\n",
    "Mean: Average performance score across students.\n",
    "Median: Middle score, useful for skewed data.\n",
    "Mode: Most frequently occurring score, highlighting common performance trends."
   ]
  },
  {
   "cell_type": "code",
   "execution_count": 9,
   "id": "13ceccdf-f95d-4213-bf0c-45a4760e453a",
   "metadata": {},
   "outputs": [
    {
     "name": "stdout",
     "output_type": "stream",
     "text": [
      "Mean (Standard Python): 7.03\n",
      "Median (Standard Python): 7\n",
      "Mode (Standard Python): 7\n"
     ]
    }
   ],
   "source": [
    "#Convert the 'Sleep_Hours' column to a list\n",
    "Hours = data['Sleep_Hours'].tolist()\n",
    "\n",
    "#Calculate Mean\n",
    "mean_python = sum(Hours) / len(Hours)\n",
    "mean_python = round(mean_python, 2)\n",
    "\n",
    "#Calculate Median\n",
    "sorted_Hours = sorted(Hours)\n",
    "n = len(sorted_Hours)\n",
    "if n % 2 == 1:\n",
    "    median_python = sorted_Hours[n // 2]\n",
    "else:\n",
    "    median_python = (sorted_Hours[n // 2 - 1] + sorted_Hours[n // 2]) / 2\n",
    "median_python = round(median_python, 2)\n",
    "\n",
    "#Calculate Mode\n",
    "frequency = {}\n",
    "for Hours in Hours:\n",
    "    frequency[Hours] = frequency.get(Hours, 0) + 1\n",
    "mode_python = max(frequency, key=frequency.get)\n",
    "\n",
    "print(\"Mean (Standard Python):\", mean_python)\n",
    "print(\"Median (Standard Python):\", median_python)\n",
    "print(\"Mode (Standard Python):\", mode_python)"
   ]
  },
  {
   "cell_type": "markdown",
   "id": "ac1f4e4f-dee9-4072-adc2-025142568caa",
   "metadata": {},
   "source": [
    "#Step 6: Data Visualization (Gender vs. Exam Scores)\n",
    "A simple text-based bar chart will be created to represent the distribution of values in the Sleep_Hours column. This visualization uses only the Python standard library, as specified in the project guidelines. The chart is dynamically generated, ensuring it adjusts automatically if the dataset is modified"
   ]
  },
  {
   "cell_type": "code",
   "execution_count": 11,
   "id": "f625c357-0bd0-4c1c-ac72-c0b5f8748183",
   "metadata": {},
   "outputs": [
    {
     "name": "stdout",
     "output_type": "stream",
     "text": [
      "Gender vs Exam Score (Count):\n",
      "----------------------------------------\n",
      "Male       | ****************************** (3814)\n",
      "Female     | ********************* (2793)\n"
     ]
    }
   ],
   "source": [
    "# Group data by gender and count the number of exam scores\n",
    "gender_counts = {}\n",
    "for _, row in data.iterrows():\n",
    "    gender = row['Gender']\n",
    "    score = row['Exam_Score']\n",
    "    if not pd.isnull(gender) and not pd.isnull(score):  # Skip rows with missing Gender or Exam_Score\n",
    "        gender_counts[gender] = gender_counts.get(gender, 0) + 1\n",
    "\n",
    "# Find the maximum count for normalization\n",
    "max_count = max(gender_counts.values())\n",
    "\n",
    "# Generate a text-based bar chart\n",
    "print(\"Gender vs Exam Score (Count):\")\n",
    "print(\"-\" * 40)\n",
    "for gender, count in gender_counts.items():\n",
    "    bar_length = int((count / max_count) * 30)  \n",
    "    print(f\"{gender:<10} | {'*' * bar_length} ({count})\")"
   ]
  }
 ],
 "metadata": {
  "kernelspec": {
   "display_name": "Python 3 (ipykernel)",
   "language": "python",
   "name": "python3"
  },
  "language_info": {
   "codemirror_mode": {
    "name": "ipython",
    "version": 3
   },
   "file_extension": ".py",
   "mimetype": "text/x-python",
   "name": "python",
   "nbconvert_exporter": "python",
   "pygments_lexer": "ipython3",
   "version": "3.12.4"
  }
 },
 "nbformat": 4,
 "nbformat_minor": 5
}
